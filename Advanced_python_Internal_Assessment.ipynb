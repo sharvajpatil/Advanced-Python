{
  "nbformat": 4,
  "nbformat_minor": 0,
  "metadata": {
    "colab": {
      "provenance": [],
      "collapsed_sections": [
        "UyzE00uS9Nq5",
        "VbC_DByV9Wj1",
        "SeGoDjLM96Oj"
      ]
    },
    "kernelspec": {
      "name": "python3",
      "display_name": "Python 3"
    },
    "language_info": {
      "name": "python"
    }
  },
  "cells": [
    {
      "cell_type": "markdown",
      "source": [
        "## 1. Dictionary Comprehension Exercise:\n",
        "Write a dictionary comprehension that creates a dictionary where the keys are numbers from 1\n",
        "to 10 and the values are their squares. Print the resulting dictionary"
      ],
      "metadata": {
        "id": "UyzE00uS9Nq5"
      }
    },
    {
      "cell_type": "code",
      "execution_count": null,
      "metadata": {
        "id": "Cv_Mn7J18vEI"
      },
      "outputs": [],
      "source": [
        "squared_dict = {x: x**2 for x in range(1, 11)}"
      ]
    },
    {
      "cell_type": "code",
      "source": [
        "squared_dict"
      ],
      "metadata": {
        "colab": {
          "base_uri": "https://localhost:8080/"
        },
        "id": "oI8rvN0D9TZw",
        "outputId": "51a0ba81-6065-43e2-c848-38ca18b30bef"
      },
      "execution_count": null,
      "outputs": [
        {
          "output_type": "execute_result",
          "data": {
            "text/plain": [
              "{1: 1, 2: 4, 3: 9, 4: 16, 5: 25, 6: 36, 7: 49, 8: 64, 9: 81, 10: 100}"
            ]
          },
          "metadata": {},
          "execution_count": 2
        }
      ]
    },
    {
      "cell_type": "markdown",
      "source": [
        "This comprehension iterates over numbers from 1 to 10 (range(1, 11)) and assigns each number (x) as a key with its square (x**2) as the value."
      ],
      "metadata": {
        "id": "ImCS1C_Q9zsc"
      }
    },
    {
      "cell_type": "markdown",
      "source": [
        "## 2. List Comprehension Exercise:\n",
        "Create a list comprehension that generates a list of even numbers from 1 to 20. Print the\n",
        "resulting list.\n"
      ],
      "metadata": {
        "id": "VbC_DByV9Wj1"
      }
    },
    {
      "cell_type": "code",
      "source": [
        "even_numbers = [x for x in range(1, 21) if x % 2 == 0]"
      ],
      "metadata": {
        "id": "eHtGHIjZ9VKq"
      },
      "execution_count": null,
      "outputs": []
    },
    {
      "cell_type": "code",
      "source": [
        "even_numbers"
      ],
      "metadata": {
        "colab": {
          "base_uri": "https://localhost:8080/"
        },
        "id": "cHtVfFNi9k5J",
        "outputId": "3328a729-c391-4c11-9c72-ac55c03bd409"
      },
      "execution_count": null,
      "outputs": [
        {
          "output_type": "execute_result",
          "data": {
            "text/plain": [
              "[2, 4, 6, 8, 10, 12, 14, 16, 18, 20]"
            ]
          },
          "metadata": {},
          "execution_count": 4
        }
      ]
    },
    {
      "cell_type": "markdown",
      "source": [
        "## 3. Nested Dictionary Comprehension:\n",
        "Write a nested dictionary comprehension that creates a dictionary where the keys are tuples of\n",
        "(x, y) for x in range(2) and y in range(2), and the values are the sum of x and y."
      ],
      "metadata": {
        "id": "SeGoDjLM96Oj"
      }
    },
    {
      "cell_type": "code",
      "source": [
        "nested_dict = {(x, y): x + y for x in range(2) for y in range(2)}"
      ],
      "metadata": {
        "id": "v8Um5gvy9mXJ"
      },
      "execution_count": null,
      "outputs": []
    },
    {
      "cell_type": "code",
      "source": [
        "nested_dict\n"
      ],
      "metadata": {
        "colab": {
          "base_uri": "https://localhost:8080/"
        },
        "id": "IF9RBBSZ-G0q",
        "outputId": "73e2eb12-cbdc-4d0a-d60d-97f1b317d6b6"
      },
      "execution_count": null,
      "outputs": [
        {
          "output_type": "execute_result",
          "data": {
            "text/plain": [
              "{(0, 0): 0, (0, 1): 1, (1, 0): 1, (1, 1): 2}"
            ]
          },
          "metadata": {},
          "execution_count": 6
        }
      ]
    },
    {
      "cell_type": "markdown",
      "source": [
        "## 4. Lambda and filter:\n",
        "Create a list of numbers from 1 to 10 and use the filter() function with a lambda expression to\n",
        "create a new list that contains only the odd numbers. Print the resulting list."
      ],
      "metadata": {
        "id": "gNjxKALi-Lnk"
      }
    },
    {
      "cell_type": "code",
      "source": [
        "numbers = list(range(1, 11))\n",
        "odd_numbers = list(filter(lambda x: x % 2 != 0, numbers))"
      ],
      "metadata": {
        "id": "3UzckLQH-JB5"
      },
      "execution_count": null,
      "outputs": []
    },
    {
      "cell_type": "code",
      "source": [
        "odd_numbers"
      ],
      "metadata": {
        "colab": {
          "base_uri": "https://localhost:8080/"
        },
        "id": "u8ipDccfAkYq",
        "outputId": "9d1f0c9e-a3d9-46b3-c0b9-8c7ac5e79927"
      },
      "execution_count": null,
      "outputs": [
        {
          "output_type": "execute_result",
          "data": {
            "text/plain": [
              "[1, 3, 5, 7, 9]"
            ]
          },
          "metadata": {},
          "execution_count": 8
        }
      ]
    },
    {
      "cell_type": "code",
      "source": [],
      "metadata": {
        "id": "tvEkr5i2AmQx"
      },
      "execution_count": null,
      "outputs": []
    },
    {
      "cell_type": "markdown",
      "source": [
        "## 5. Email Validation\n",
        "Write a Python program that validates an email address using a regular expression.\n",
        "The email should follow the pattern: username@domain.extension. Print \"Valid\n",
        "Email\" if the email is valid, otherwise print \"Invalid Email\""
      ],
      "metadata": {
        "id": "0VaHnRLCBAuE"
      }
    },
    {
      "cell_type": "code",
      "source": [
        "import re\n",
        "\n",
        "# Function to validate an email address\n",
        "def validate_email(email):\n",
        "    # Regular expression for a valid email address\n",
        "    email_pattern = r'^[a-zA-Z0-9._%+-]+@[a-zA-Z0-9.-]+\\.[a-zA-Z]{2,}$'\n",
        "\n",
        "    # Match the email against the pattern\n",
        "    if re.match(email_pattern, email):\n",
        "        return \"Valid Email\"\n",
        "    else:\n",
        "        return \"Invalid Email\""
      ],
      "metadata": {
        "id": "iak4slTbBFoZ"
      },
      "execution_count": null,
      "outputs": []
    },
    {
      "cell_type": "code",
      "source": [
        "test_email = \"sharvajpatil2002@gmail.com\"\n",
        "validate_email(test_email)"
      ],
      "metadata": {
        "colab": {
          "base_uri": "https://localhost:8080/",
          "height": 35
        },
        "id": "7CwwcmSXBRb8",
        "outputId": "caf5011a-082f-4e7d-e229-f23c9a5733c8"
      },
      "execution_count": null,
      "outputs": [
        {
          "output_type": "execute_result",
          "data": {
            "text/plain": [
              "'Valid Email'"
            ],
            "application/vnd.google.colaboratory.intrinsic+json": {
              "type": "string"
            }
          },
          "metadata": {},
          "execution_count": 10
        }
      ]
    },
    {
      "cell_type": "code",
      "source": [
        "test_email = \"sharvajpatilgmail.com\"\n",
        "validate_email(test_email)"
      ],
      "metadata": {
        "colab": {
          "base_uri": "https://localhost:8080/",
          "height": 35
        },
        "id": "CnmhwozeBX4x",
        "outputId": "5ef809a6-da4f-4753-849b-0e58d6b856ba"
      },
      "execution_count": null,
      "outputs": [
        {
          "output_type": "execute_result",
          "data": {
            "text/plain": [
              "'Invalid Email'"
            ],
            "application/vnd.google.colaboratory.intrinsic+json": {
              "type": "string"
            }
          },
          "metadata": {},
          "execution_count": 12
        }
      ]
    },
    {
      "cell_type": "markdown",
      "source": [
        "## 6. Password Strength Checker\n",
        "Create a function that checks if a password is strong based on the following criteria:\n",
        "▪ At least one uppercase letter\n",
        "▪ At least one lowercase letter\n",
        "▪ At least one digit\n",
        "▪ At least one special character\n",
        "▪ Length between 8 and 18 characters\n",
        "Use a regular expression to validate the password and print \"Valid Password\" or\n",
        "\"Invalid Password\"."
      ],
      "metadata": {
        "id": "LXABB_f2Bgu3"
      }
    },
    {
      "cell_type": "code",
      "source": [
        "import re\n",
        "\n",
        "def validate_password(password):\n",
        "    # Regular expression for a strong password\n",
        "    password_pattern = r'^(?=.*[A-Z])(?=.*[a-z])(?=.*\\d)(?=.*[@$!%*?&#])[A-Za-z\\d@$!%*?&#]{8,18}$'\n",
        "\n",
        "    # Check the password against the pattern\n",
        "    if re.match(password_pattern, password):\n",
        "        print(\"Valid Password\")\n",
        "    else:\n",
        "        print(\"Invalid Password\")\n",
        "\n"
      ],
      "metadata": {
        "id": "7C60KhoPBjny"
      },
      "execution_count": null,
      "outputs": []
    },
    {
      "cell_type": "code",
      "source": [
        "# Test the function with a sample password\n",
        "test_password = \"Mclaren@1400\"\n",
        "validate_password(test_password)"
      ],
      "metadata": {
        "colab": {
          "base_uri": "https://localhost:8080/"
        },
        "id": "xZbY42gcCAQ_",
        "outputId": "0c1c101d-f71e-4339-95d9-8ab6de79161d"
      },
      "execution_count": null,
      "outputs": [
        {
          "output_type": "stream",
          "name": "stdout",
          "text": [
            "Valid Password\n"
          ]
        }
      ]
    },
    {
      "cell_type": "code",
      "source": [
        "test_password = \"mclaren1400\"\n",
        "validate_password(test_password)"
      ],
      "metadata": {
        "colab": {
          "base_uri": "https://localhost:8080/"
        },
        "id": "SqCdsSoUCGXR",
        "outputId": "a58f7d3d-1ae5-4d11-8f8d-e9adb189feff"
      },
      "execution_count": null,
      "outputs": [
        {
          "output_type": "stream",
          "name": "stdout",
          "text": [
            "Invalid Password\n"
          ]
        }
      ]
    },
    {
      "cell_type": "markdown",
      "source": [
        "(?=.*[A-Z]): Ensures at least one uppercase letter.  \n",
        "(?=.*[a-z]): Ensures at least one lowercase letter.  \n",
        "(?=.*\\d): Ensures at least one digit.  \n",
        "(?=.*[@$!%*?&#]): Ensures at least one special character.   \n",
        "[A-Za-z\\d@$!%*?&#]{8,18}: Ensures the total length of the password is between 8 and 18 characters.   \n",
        "^ and $: Assert that the match spans the entire string"
      ],
      "metadata": {
        "id": "cpUa8UJDCLkX"
      }
    },
    {
      "cell_type": "markdown",
      "source": [
        "## 7. Extracting URLs\n",
        "Write a Python function that extracts all URLs from a given text. Use a regular\n",
        "expression pattern that matches typical URL formats (e.g., starting with http:// or\n",
        "https://). Test the function with a sample text containing multiple URLs."
      ],
      "metadata": {
        "id": "719Bwcv4DzCs"
      }
    },
    {
      "cell_type": "code",
      "source": [
        "import re\n",
        "\n",
        "def extract_urls(text):\n",
        "    # Regular expression pattern to match typical URL formats\n",
        "    url_pattern = r'https?://[^\\s,]+'\n",
        "\n",
        "    # Find all matches in the given text\n",
        "    urls = re.findall(url_pattern, text)\n",
        "\n",
        "    return urls\n",
        "\n"
      ],
      "metadata": {
        "id": "OdjEoBeAD9G8"
      },
      "execution_count": null,
      "outputs": []
    },
    {
      "cell_type": "code",
      "source": [
        "# Test the function with a sample text containing multiple URLs\n",
        "sample_text = \"\"\"\n",
        "Here are some useful links:\n",
        "- Google: https://www.google.com\n",
        "- OpenAI: https://www.openai.com\n",
        "- GitHub: http://github.com\n",
        "Visit them for more information.\n",
        "\"\"\""
      ],
      "metadata": {
        "id": "3VGMhfgnEVRL"
      },
      "execution_count": null,
      "outputs": []
    },
    {
      "cell_type": "code",
      "source": [
        "extracted_urls = extract_urls(sample_text)\n",
        "print(extracted_urls)"
      ],
      "metadata": {
        "colab": {
          "base_uri": "https://localhost:8080/"
        },
        "id": "_dWsjsJpEZjp",
        "outputId": "84c8fc4f-fc3d-4dca-9aec-da97dc4dd932"
      },
      "execution_count": null,
      "outputs": [
        {
          "output_type": "stream",
          "name": "stdout",
          "text": [
            "['https://www.google.com', 'https://www.openai.com', 'http://github.com']\n"
          ]
        }
      ]
    },
    {
      "cell_type": "markdown",
      "source": [
        "## 8. UPI ID Validator\n",
        "Implement a function that validates a UPI ID based on the following rules:\n",
        "▪ It must contain an '@' symbol.\n",
        "▪ It should not contain whitespace.\n",
        "▪ It may or may not contain a dot (.) or hyphen (-).\n",
        "Use a regular expression to check if the UPI ID is valid and print \"Valid UPI ID\" or\n",
        "\"Invalid UPI ID\"."
      ],
      "metadata": {
        "id": "2H61x54RGJU_"
      }
    },
    {
      "cell_type": "code",
      "source": [
        "import re\n",
        "\n",
        "def validate_upi_id(upi_id):\n",
        "    # Regular expression for UPI ID validation\n",
        "    upi_pattern = r'^[^\\s@]+@[a-zA-Z0-9.-]+$'\n",
        "\n",
        "    if re.match(upi_pattern, upi_id):\n",
        "        print(\"Valid UPI ID\")\n",
        "    else:\n",
        "        print(\"Invalid UPI ID\")\n"
      ],
      "metadata": {
        "id": "E3pWGoWmGORK"
      },
      "execution_count": null,
      "outputs": []
    },
    {
      "cell_type": "code",
      "source": [
        "# Test the function\n",
        "validate_upi_id(\"example@upi.com\")"
      ],
      "metadata": {
        "colab": {
          "base_uri": "https://localhost:8080/"
        },
        "id": "QsqlOFz-GnWv",
        "outputId": "a5449bf4-18d9-4f70-9d2a-eb1b1e9d7420"
      },
      "execution_count": null,
      "outputs": [
        {
          "output_type": "stream",
          "name": "stdout",
          "text": [
            "Valid UPI ID\n"
          ]
        }
      ]
    },
    {
      "cell_type": "code",
      "source": [
        "# Test the function\n",
        "validate_upi_id(\"exampleupicom\")"
      ],
      "metadata": {
        "colab": {
          "base_uri": "https://localhost:8080/"
        },
        "id": "5J0HuXRUGoHA",
        "outputId": "8734d1bd-7666-4bcb-9d29-ccc4d56b74a9"
      },
      "execution_count": null,
      "outputs": [
        {
          "output_type": "stream",
          "name": "stdout",
          "text": [
            "Invalid UPI ID\n"
          ]
        }
      ]
    },
    {
      "cell_type": "markdown",
      "source": [
        "## 9. Bank Account Class\n",
        "Implement a class BankAccount with attributes for account number, account\n",
        "holder's name, and balance. Include methods for depositing and withdrawing\n",
        "money, and ensure that the balance cannot go negative.\n"
      ],
      "metadata": {
        "id": "T42W1Y59Gup_"
      }
    },
    {
      "cell_type": "code",
      "source": [
        "class BankAccount:\n",
        "    def __init__(self, account_number, account_holder, balance=0):\n",
        "        self.account_number = account_number\n",
        "        self.account_holder = account_holder\n",
        "        self.balance = balance\n",
        "\n",
        "    def deposit(self, amount):\n",
        "        self.balance += amount\n",
        "        print(f\"Deposited {amount}. Current balance: {self.balance}\")\n",
        "\n",
        "    def withdraw(self, amount):\n",
        "        if self.balance >= amount:\n",
        "            self.balance -= amount\n",
        "            print(f\"Withdrew {amount}. Current balance: {self.balance}\")\n",
        "        else:\n",
        "            print(\"Insufficient funds.\")"
      ],
      "metadata": {
        "id": "GfHqp8-0GpyZ"
      },
      "execution_count": null,
      "outputs": []
    },
    {
      "cell_type": "code",
      "source": [
        "account = BankAccount(\"12345\", \"Gordon Freeman\", 1000)\n",
        "account.deposit(500)\n",
        "account.withdraw(200)\n",
        "account.withdraw(1500)"
      ],
      "metadata": {
        "colab": {
          "base_uri": "https://localhost:8080/"
        },
        "id": "jx-a93zBHPoX",
        "outputId": "671975e4-2bd9-4930-a622-3412fb3d7151"
      },
      "execution_count": null,
      "outputs": [
        {
          "output_type": "stream",
          "name": "stdout",
          "text": [
            "Deposited 500. Current balance: 1500\n",
            "Withdrew 200. Current balance: 1300\n",
            "Insufficient funds.\n"
          ]
        }
      ]
    },
    {
      "cell_type": "markdown",
      "source": [
        "## 10. Inheritance Example:\n",
        "Create a base class Person with attributes for name and age. Derive a subclass\n",
        "Student that adds an attribute for student_id and a method to display student details.\n",
        "Create an object of the Student class and display its information."
      ],
      "metadata": {
        "id": "PwNHecgPHoCE"
      }
    },
    {
      "cell_type": "code",
      "source": [
        "class Person:\n",
        "    def __init__(self, name, age):\n",
        "        self.name = name\n",
        "        self.age = age\n",
        "\n",
        "class Student(Person):\n",
        "    def __init__(self, name, age, student_id):\n",
        "        super().__init__(name, age)\n",
        "        self.student_id = student_id\n",
        "\n",
        "    def display_student_details(self):\n",
        "        print(f\"Name: {self.name}, Age: {self.age}, Student ID: {self.student_id}\")"
      ],
      "metadata": {
        "id": "EO0R4ycrHitZ"
      },
      "execution_count": null,
      "outputs": []
    },
    {
      "cell_type": "code",
      "source": [
        "student = Student(\"Sharvaj\", 22, \"4808540\")\n",
        "student.display_student_details()"
      ],
      "metadata": {
        "colab": {
          "base_uri": "https://localhost:8080/"
        },
        "id": "Scqd4P8BH3E4",
        "outputId": "3023201c-e9f8-49ae-bfb2-c878d5e5b1da"
      },
      "execution_count": null,
      "outputs": [
        {
          "output_type": "stream",
          "name": "stdout",
          "text": [
            "Name: Sharvaj, Age: 22, Student ID: 4808540\n"
          ]
        }
      ]
    },
    {
      "cell_type": "markdown",
      "source": [
        "## 11. Polymorphism with Shapes:\n",
        "Create a base class Shape with a method area(). Derive two subclasses: Circle and\n",
        "Square, each implementing the area() method to calculate the area based on their\n",
        "2\n",
        "specific formulas. Create objects of both classes and demonstrate polymorphism by\n",
        "calling the area() method.\n"
      ],
      "metadata": {
        "id": "QbvgYvSKIbKv"
      }
    },
    {
      "cell_type": "code",
      "source": [
        "class Shape:\n",
        "    def area(self):\n",
        "        pass\n",
        "\n",
        "class Circle(Shape):\n",
        "    def __init__(self, radius):\n",
        "        self.radius = radius\n",
        "\n",
        "    def area(self):\n",
        "        return 3.14 * self.radius * self.radius\n",
        "\n",
        "class Square(Shape):\n",
        "    def __init__(self, side):\n",
        "        self.side = side\n",
        "\n",
        "    def area(self):\n",
        "        return self.side * self.side"
      ],
      "metadata": {
        "id": "mw8VADC4H_gI"
      },
      "execution_count": null,
      "outputs": []
    },
    {
      "cell_type": "code",
      "source": [
        "circle = Circle(5)\n",
        "square = Square(4)\n",
        "\n",
        "print(f\"Circle area: {circle.area()}\")\n",
        "print(f\"Square area: {square.area()}\")"
      ],
      "metadata": {
        "colab": {
          "base_uri": "https://localhost:8080/"
        },
        "id": "HB8MCQxoIl1f",
        "outputId": "6a58d0b5-863e-415e-f593-ba36e789b882"
      },
      "execution_count": null,
      "outputs": [
        {
          "output_type": "stream",
          "name": "stdout",
          "text": [
            "Circle area: 78.5\n",
            "Square area: 16\n"
          ]
        }
      ]
    },
    {
      "cell_type": "markdown",
      "source": [
        "## 12. Encapsulation in a Class:\n",
        "Implement a class Motorcycle with private attributes for color, engine_size, and\n",
        "max_speed. Provide public methods to set and get these attributes. Create an object\n",
        "of the class and demonstrate the use of encapsulation by accessing the attributes\n",
        "through the provided methods"
      ],
      "metadata": {
        "id": "dnpt02oBMRGW"
      }
    },
    {
      "cell_type": "code",
      "source": [
        "class Motorcycle:\n",
        "    def __init__(self, color, engine_size, max_speed):\n",
        "        self.__color = color\n",
        "        self.__engine_size = engine_size\n",
        "        self.__max_speed = max_speed\n",
        "\n",
        "    def set_color(self, color):\n",
        "        self.__color = color\n",
        "\n",
        "    def get_color(self):\n",
        "        return self.__color\n",
        "\n",
        "    def set_engine_size(self, engine_size):\n",
        "        self.__engine_size = engine_size\n",
        "\n",
        "    def get_engine_size(self):\n",
        "        return self.__engine_size\n",
        "\n",
        "    def set_max_speed(self, max_speed):\n",
        "        self.__max_speed = max_speed\n",
        "\n",
        "    def get_max_speed(self):\n",
        "        return self.__max_speed"
      ],
      "metadata": {
        "id": "6dpIq5gEMT7B"
      },
      "execution_count": null,
      "outputs": []
    },
    {
      "cell_type": "code",
      "source": [
        "motorcycle = Motorcycle(\"Red\", \"500cc\", 180)\n",
        "motorcycle.set_color(\"Blue\")\n",
        "print(f\"Motorcycle color: {motorcycle.get_color()}\")"
      ],
      "metadata": {
        "colab": {
          "base_uri": "https://localhost:8080/"
        },
        "id": "GRCIQlq2MtiT",
        "outputId": "44a32b82-380f-48ee-d29a-86548d0bce7c"
      },
      "execution_count": null,
      "outputs": [
        {
          "output_type": "stream",
          "name": "stdout",
          "text": [
            "Motorcycle color: Blue\n"
          ]
        }
      ]
    },
    {
      "cell_type": "markdown",
      "source": [
        "## 13. Basic Decorator Creation\n",
        "Write a simple decorator called uppercase_decorator that converts the return\n",
        "value of a function to uppercase. Test it with a function that returns a string."
      ],
      "metadata": {
        "id": "7QiFdu-jNMWW"
      }
    },
    {
      "cell_type": "code",
      "source": [
        "def uppercase_decorator(func):\n",
        "    def wrapper():\n",
        "        result = func()\n",
        "        return result.upper()\n",
        "    return wrapper\n",
        "\n",
        "@uppercase_decorator\n",
        "def greet():\n",
        "    return \"hello world\""
      ],
      "metadata": {
        "id": "Zn9hFBWuNMAn"
      },
      "execution_count": null,
      "outputs": []
    },
    {
      "cell_type": "code",
      "source": [
        "print(greet())"
      ],
      "metadata": {
        "colab": {
          "base_uri": "https://localhost:8080/"
        },
        "id": "tMcy7Jn1NVQB",
        "outputId": "b8003b66-f2ed-459a-f2ae-b505c5ee7345"
      },
      "execution_count": null,
      "outputs": [
        {
          "output_type": "stream",
          "name": "stdout",
          "text": [
            "HELLO WORLD\n"
          ]
        }
      ]
    },
    {
      "cell_type": "markdown",
      "source": [
        "## 14. Timing Decorator\n",
        "Create a decorator named time_it that measures the execution time of a function.\n",
        "The decorator should print the time taken to execute the function when it is\n",
        "called."
      ],
      "metadata": {
        "id": "kuuUrfKoNaHy"
      }
    },
    {
      "cell_type": "code",
      "source": [
        "import time\n",
        "\n",
        "def time_it(func):\n",
        "    def wrapper(*args, **kwargs):\n",
        "        start_time = time.time()\n",
        "        result = func(*args, **kwargs)\n",
        "        end_time = time.time()\n",
        "        print(f\"Execution time: {end_time - start_time} seconds\")\n",
        "        return result\n",
        "    return wrapper\n",
        "\n",
        "@time_it\n",
        "def slow_function():\n",
        "    time.sleep(2)\n",
        "    return \"Function finished\""
      ],
      "metadata": {
        "id": "akVh6RxmNYih"
      },
      "execution_count": null,
      "outputs": []
    },
    {
      "cell_type": "code",
      "source": [
        "print(slow_function())"
      ],
      "metadata": {
        "colab": {
          "base_uri": "https://localhost:8080/"
        },
        "id": "IWqGhXmiNido",
        "outputId": "f32a5794-6ef0-45a8-a655-8a1bbe9dcbb7"
      },
      "execution_count": null,
      "outputs": [
        {
          "output_type": "stream",
          "name": "stdout",
          "text": [
            "Execution time: 2.003047466278076 seconds\n",
            "Function finished\n"
          ]
        }
      ]
    },
    {
      "cell_type": "markdown",
      "source": [
        "## 15. Parameterized Decorator\n",
        "Implement a parameterized decorator called repeat that takes an integer n as an\n",
        "argument and repeats the execution of the decorated function n times. Test it\n",
        "with a function that prints a message\n"
      ],
      "metadata": {
        "id": "tCsX8EalNqVT"
      }
    },
    {
      "cell_type": "code",
      "source": [
        "def repeat(n):\n",
        "    def decorator(func):\n",
        "        def wrapper(*args, **kwargs):\n",
        "            for _ in range(n):\n",
        "                func(*args, **kwargs)\n",
        "        return wrapper\n",
        "    return decorator\n",
        "\n",
        "@repeat(3)\n",
        "def print_message():\n",
        "    print(\"Hello!\")"
      ],
      "metadata": {
        "id": "4aCz6VIWNlqo"
      },
      "execution_count": null,
      "outputs": []
    },
    {
      "cell_type": "code",
      "source": [
        "print_message()"
      ],
      "metadata": {
        "colab": {
          "base_uri": "https://localhost:8080/"
        },
        "id": "_U-hQXkeNzOo",
        "outputId": "563d363f-b9ad-4915-956b-ef1bded7c1bd"
      },
      "execution_count": null,
      "outputs": [
        {
          "output_type": "stream",
          "name": "stdout",
          "text": [
            "Hello!\n",
            "Hello!\n",
            "Hello!\n"
          ]
        }
      ]
    },
    {
      "cell_type": "markdown",
      "source": [
        "## 16. Caching with functools.lru_cache\n",
        " Use the @lru_cache decorator from the functools module to create a function\n",
        "that computes the nth Fibonacci number. Test the function with various inputs\n",
        "to demonstrate the caching effect.\n"
      ],
      "metadata": {
        "id": "3hn2D8viN2o_"
      }
    },
    {
      "cell_type": "code",
      "source": [
        "from functools import lru_cache\n",
        "\n",
        "@lru_cache(maxsize=None)\n",
        "def fibonacci(n):\n",
        "    if n <= 1:\n",
        "        return n\n",
        "    return fibonacci(n - 1) + fibonacci(n - 2)"
      ],
      "metadata": {
        "id": "90nxex4-N0JJ"
      },
      "execution_count": 1,
      "outputs": []
    },
    {
      "cell_type": "code",
      "source": [
        "print(fibonacci(10))"
      ],
      "metadata": {
        "colab": {
          "base_uri": "https://localhost:8080/"
        },
        "id": "uj9mLnR4hHjw",
        "outputId": "526c4723-c654-4ee5-a82c-166eb0d586ba"
      },
      "execution_count": 2,
      "outputs": [
        {
          "output_type": "stream",
          "name": "stdout",
          "text": [
            "55\n"
          ]
        }
      ]
    },
    {
      "cell_type": "markdown",
      "source": [
        "## 17. Registration Decorator\n",
        "Create a registration decorator called register that keeps track of all functions it\n",
        "decorates in a global list. Write a function that returns the list of registered\n",
        "functions"
      ],
      "metadata": {
        "id": "24WtngsZhkTc"
      }
    },
    {
      "cell_type": "code",
      "source": [
        "registered_functions = []\n",
        "\n",
        "def register(func):\n",
        "    registered_functions.append(func)\n",
        "    return func\n",
        "\n",
        "@register\n",
        "def func1():\n",
        "    print(\"Function 1\")\n",
        "\n",
        "@register\n",
        "def func2():\n",
        "    print(\"Function 2\")"
      ],
      "metadata": {
        "id": "Xhw0Dgz3hpjG"
      },
      "execution_count": 3,
      "outputs": []
    },
    {
      "cell_type": "code",
      "source": [
        "print(registered_functions)"
      ],
      "metadata": {
        "colab": {
          "base_uri": "https://localhost:8080/"
        },
        "id": "-THl3FmXifaL",
        "outputId": "5d905e84-e70c-4c45-c1cb-b8ea654b4a3f"
      },
      "execution_count": 4,
      "outputs": [
        {
          "output_type": "stream",
          "name": "stdout",
          "text": [
            "[<function func1 at 0x79a64ddc1e10>, <function func2 at 0x79a64ddc2e60>]\n"
          ]
        }
      ]
    },
    {
      "cell_type": "markdown",
      "source": [
        "## 18. Closure Example\n",
        "Write a function make_counter that returns a nested function (closure) that\n",
        "counts how many times it has been called. The outer function should return the\n",
        "inner function, and the inner function should print the current count each time\n",
        "it is called"
      ],
      "metadata": {
        "id": "ZU1YJKR1iiFO"
      }
    },
    {
      "cell_type": "code",
      "source": [
        "def make_counter():\n",
        "    count = 0\n",
        "    def counter():\n",
        "        nonlocal count\n",
        "        count += 1\n",
        "        print(count)\n",
        "    return counter"
      ],
      "metadata": {
        "id": "J6PHrC46imzy"
      },
      "execution_count": 5,
      "outputs": []
    },
    {
      "cell_type": "code",
      "source": [
        "counter = make_counter()\n",
        "counter()\n",
        "counter()\n",
        "counter()"
      ],
      "metadata": {
        "colab": {
          "base_uri": "https://localhost:8080/"
        },
        "id": "4sb366Rtipve",
        "outputId": "5ea5752b-d16e-4751-8154-cc2fbb0cdaff"
      },
      "execution_count": 7,
      "outputs": [
        {
          "output_type": "stream",
          "name": "stdout",
          "text": [
            "1\n",
            "2\n",
            "3\n"
          ]
        }
      ]
    },
    {
      "cell_type": "markdown",
      "source": [
        "## 19. Stacked Decorators\n",
        "Create two decorators: bold and italic. The bold decorator should wrap the\n",
        "output of a function in bold tags, and the italic decorator should wrap it in italic\n",
        "tags. Stack these decorators on a function that returns a string, and test the\n",
        "output"
      ],
      "metadata": {
        "id": "TFEC25kBiyhf"
      }
    },
    {
      "cell_type": "code",
      "source": [
        "def bold(func):\n",
        "    def wrapper():\n",
        "        return f\"<b>{func()}</b>\"\n",
        "    return wrapper\n",
        "\n",
        "def italic(func):\n",
        "    def wrapper():\n",
        "        return f\"<i>{func()}</i>\"\n",
        "    return wrapper\n",
        "\n",
        "@bold\n",
        "@italic\n",
        "def message():\n",
        "    return \"Hola!\""
      ],
      "metadata": {
        "id": "l5RSefO2irRO"
      },
      "execution_count": 11,
      "outputs": []
    },
    {
      "cell_type": "code",
      "source": [
        "print(message())"
      ],
      "metadata": {
        "colab": {
          "base_uri": "https://localhost:8080/"
        },
        "id": "XysDdNvpjJX7",
        "outputId": "272ab79f-d3a0-4f4d-b696-951c16393ee6"
      },
      "execution_count": 12,
      "outputs": [
        {
          "output_type": "stream",
          "name": "stdout",
          "text": [
            "<b><i>Hola!</i></b>\n"
          ]
        }
      ]
    },
    {
      "cell_type": "markdown",
      "source": [
        "## 20. Multiple Dispatch Decorator\n",
        " Implement a simple version of a multiple dispatch decorator that can handle\n",
        "different types of arguments. Create a function that takes either an integer or a\n",
        "string and returns a different message based on the type of the argument. Use\n",
        "the decorator to manage the different behaviors."
      ],
      "metadata": {
        "id": "10X2cz5ejgKb"
      }
    },
    {
      "cell_type": "code",
      "source": [
        "from functools import singledispatch\n",
        "\n",
        "@singledispatch\n",
        "def greet(arg):\n",
        "    return f\"Hello, {arg}\"\n",
        "\n",
        "@greet.register(int)\n",
        "def _(arg):\n",
        "    return f\"Hello, number {arg}\"\n",
        "\n",
        "@greet.register(str)\n",
        "def _(arg):\n",
        "    return f\"Hello, string {arg}\""
      ],
      "metadata": {
        "id": "qSp25h6Cjkrg"
      },
      "execution_count": 13,
      "outputs": []
    },
    {
      "cell_type": "code",
      "source": [
        "print(greet(5))\n",
        "print(greet(\"Alice\"))"
      ],
      "metadata": {
        "colab": {
          "base_uri": "https://localhost:8080/"
        },
        "id": "gfQ6zNI7joQe",
        "outputId": "408b790b-242f-42f5-fd1a-c88f9150e079"
      },
      "execution_count": 14,
      "outputs": [
        {
          "output_type": "stream",
          "name": "stdout",
          "text": [
            "Hello, number 5\n",
            "Hello, string Alice\n"
          ]
        }
      ]
    }
  ]
}